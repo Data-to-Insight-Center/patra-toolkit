{
 "cells": [
  {
   "cell_type": "code",
   "id": "initial_id",
   "metadata": {
    "collapsed": true,
    "ExecuteTime": {
     "end_time": "2024-10-15T00:16:42.933551Z",
     "start_time": "2024-10-15T00:16:42.924855Z"
    }
   },
   "source": [
    "import torch\n",
    "import torch.nn as nn\n",
    "import torch.optim as optim\n",
    "import pandas as pd\n",
    "from sklearn.model_selection import train_test_split\n",
    "from sklearn.preprocessing import StandardScaler, LabelEncoder"
   ],
   "outputs": [],
   "execution_count": 28
  },
  {
   "metadata": {
    "ExecuteTime": {
     "end_time": "2024-10-14T14:51:46.864451Z",
     "start_time": "2024-10-14T14:51:46.862682Z"
    }
   },
   "cell_type": "code",
   "source": "#pip install torch torchvision torchaudio",
   "id": "4eea008201401a8e",
   "outputs": [],
   "execution_count": 2
  },
  {
   "metadata": {
    "ExecuteTime": {
     "end_time": "2024-10-14T14:51:47.172710Z",
     "start_time": "2024-10-14T14:51:47.168131Z"
    }
   },
   "cell_type": "code",
   "source": "data = pd.read_csv('/Users/swithana/git/d2i/patra-toolkit/examples/notebooks/data/adult/train.csv')",
   "id": "8942fd2eed6b19bd",
   "outputs": [],
   "execution_count": 3
  },
  {
   "metadata": {
    "ExecuteTime": {
     "end_time": "2024-10-14T14:51:47.208659Z",
     "start_time": "2024-10-14T14:51:47.199138Z"
    }
   },
   "cell_type": "code",
   "source": "data.head()",
   "id": "b51ea76590873b7a",
   "outputs": [
    {
     "data": {
      "text/plain": [
       "   PassengerId  Survived  Pclass  \\\n",
       "0            1         0       3   \n",
       "1            2         1       1   \n",
       "2            3         1       3   \n",
       "3            4         1       1   \n",
       "4            5         0       3   \n",
       "\n",
       "                                                Name     Sex   Age  SibSp  \\\n",
       "0                            Braund, Mr. Owen Harris    male  22.0      1   \n",
       "1  Cumings, Mrs. John Bradley (Florence Briggs Th...  female  38.0      1   \n",
       "2                             Heikkinen, Miss. Laina  female  26.0      0   \n",
       "3       Futrelle, Mrs. Jacques Heath (Lily May Peel)  female  35.0      1   \n",
       "4                           Allen, Mr. William Henry    male  35.0      0   \n",
       "\n",
       "   Parch            Ticket     Fare Cabin Embarked  \n",
       "0      0         A/5 21171   7.2500   NaN        S  \n",
       "1      0          PC 17599  71.2833   C85        C  \n",
       "2      0  STON/O2. 3101282   7.9250   NaN        S  \n",
       "3      0            113803  53.1000  C123        S  \n",
       "4      0            373450   8.0500   NaN        S  "
      ],
      "text/html": [
       "<div>\n",
       "<style scoped>\n",
       "    .dataframe tbody tr th:only-of-type {\n",
       "        vertical-align: middle;\n",
       "    }\n",
       "\n",
       "    .dataframe tbody tr th {\n",
       "        vertical-align: top;\n",
       "    }\n",
       "\n",
       "    .dataframe thead th {\n",
       "        text-align: right;\n",
       "    }\n",
       "</style>\n",
       "<table border=\"1\" class=\"dataframe\">\n",
       "  <thead>\n",
       "    <tr style=\"text-align: right;\">\n",
       "      <th></th>\n",
       "      <th>PassengerId</th>\n",
       "      <th>Survived</th>\n",
       "      <th>Pclass</th>\n",
       "      <th>Name</th>\n",
       "      <th>Sex</th>\n",
       "      <th>Age</th>\n",
       "      <th>SibSp</th>\n",
       "      <th>Parch</th>\n",
       "      <th>Ticket</th>\n",
       "      <th>Fare</th>\n",
       "      <th>Cabin</th>\n",
       "      <th>Embarked</th>\n",
       "    </tr>\n",
       "  </thead>\n",
       "  <tbody>\n",
       "    <tr>\n",
       "      <th>0</th>\n",
       "      <td>1</td>\n",
       "      <td>0</td>\n",
       "      <td>3</td>\n",
       "      <td>Braund, Mr. Owen Harris</td>\n",
       "      <td>male</td>\n",
       "      <td>22.0</td>\n",
       "      <td>1</td>\n",
       "      <td>0</td>\n",
       "      <td>A/5 21171</td>\n",
       "      <td>7.2500</td>\n",
       "      <td>NaN</td>\n",
       "      <td>S</td>\n",
       "    </tr>\n",
       "    <tr>\n",
       "      <th>1</th>\n",
       "      <td>2</td>\n",
       "      <td>1</td>\n",
       "      <td>1</td>\n",
       "      <td>Cumings, Mrs. John Bradley (Florence Briggs Th...</td>\n",
       "      <td>female</td>\n",
       "      <td>38.0</td>\n",
       "      <td>1</td>\n",
       "      <td>0</td>\n",
       "      <td>PC 17599</td>\n",
       "      <td>71.2833</td>\n",
       "      <td>C85</td>\n",
       "      <td>C</td>\n",
       "    </tr>\n",
       "    <tr>\n",
       "      <th>2</th>\n",
       "      <td>3</td>\n",
       "      <td>1</td>\n",
       "      <td>3</td>\n",
       "      <td>Heikkinen, Miss. Laina</td>\n",
       "      <td>female</td>\n",
       "      <td>26.0</td>\n",
       "      <td>0</td>\n",
       "      <td>0</td>\n",
       "      <td>STON/O2. 3101282</td>\n",
       "      <td>7.9250</td>\n",
       "      <td>NaN</td>\n",
       "      <td>S</td>\n",
       "    </tr>\n",
       "    <tr>\n",
       "      <th>3</th>\n",
       "      <td>4</td>\n",
       "      <td>1</td>\n",
       "      <td>1</td>\n",
       "      <td>Futrelle, Mrs. Jacques Heath (Lily May Peel)</td>\n",
       "      <td>female</td>\n",
       "      <td>35.0</td>\n",
       "      <td>1</td>\n",
       "      <td>0</td>\n",
       "      <td>113803</td>\n",
       "      <td>53.1000</td>\n",
       "      <td>C123</td>\n",
       "      <td>S</td>\n",
       "    </tr>\n",
       "    <tr>\n",
       "      <th>4</th>\n",
       "      <td>5</td>\n",
       "      <td>0</td>\n",
       "      <td>3</td>\n",
       "      <td>Allen, Mr. William Henry</td>\n",
       "      <td>male</td>\n",
       "      <td>35.0</td>\n",
       "      <td>0</td>\n",
       "      <td>0</td>\n",
       "      <td>373450</td>\n",
       "      <td>8.0500</td>\n",
       "      <td>NaN</td>\n",
       "      <td>S</td>\n",
       "    </tr>\n",
       "  </tbody>\n",
       "</table>\n",
       "</div>"
      ]
     },
     "execution_count": 4,
     "metadata": {},
     "output_type": "execute_result"
    }
   ],
   "execution_count": 4
  },
  {
   "metadata": {
    "ExecuteTime": {
     "end_time": "2024-10-14T14:51:47.239399Z",
     "start_time": "2024-10-14T14:51:47.235920Z"
    }
   },
   "cell_type": "code",
   "source": [
    "# Drop irrelevant columns\n",
    "data_cleaned = data.drop(columns=['PassengerId', 'Name', 'Ticket', 'Cabin'])\n",
    "\n",
    "# Fill missing values in 'Age' with the median and 'Embarked' with the mode\n",
    "\n",
    "data_cleaned['Age'] = data_cleaned['Age'].fillna(data_cleaned['Age'].median())\n",
    "data_cleaned['Embarked'] = data_cleaned['Embarked'].fillna(data_cleaned['Embarked'].mode()[0])"
   ],
   "id": "9c05243457d6a70b",
   "outputs": [],
   "execution_count": 5
  },
  {
   "metadata": {
    "ExecuteTime": {
     "end_time": "2024-10-14T14:51:47.269273Z",
     "start_time": "2024-10-14T14:51:47.267682Z"
    }
   },
   "cell_type": "code",
   "source": [
    "# Encode categorical variables 'Sex' and 'Embarked'\n",
    "label_encoder_sex = LabelEncoder()\n",
    "label_encoder_embarked = LabelEncoder()"
   ],
   "id": "487f8a13decd6535",
   "outputs": [],
   "execution_count": 6
  },
  {
   "metadata": {
    "ExecuteTime": {
     "end_time": "2024-10-14T14:51:47.283743Z",
     "start_time": "2024-10-14T14:51:47.281156Z"
    }
   },
   "cell_type": "code",
   "source": [
    "data_cleaned['Sex'] = label_encoder_sex.fit_transform(data_cleaned['Sex'])\n",
    "data_cleaned['Embarked'] = label_encoder_embarked.fit_transform(data_cleaned['Embarked'])"
   ],
   "id": "131b3b1ab91966fe",
   "outputs": [],
   "execution_count": 7
  },
  {
   "metadata": {
    "ExecuteTime": {
     "end_time": "2024-10-14T14:51:47.305686Z",
     "start_time": "2024-10-14T14:51:47.302203Z"
    }
   },
   "cell_type": "code",
   "source": [
    "# Separate features (X) and target variable (y)\n",
    "X = data_cleaned.drop(columns=['Survived'])\n",
    "y = data_cleaned['Survived']\n",
    "\n",
    "# Split the dataset into training and testing sets (80% train, 20% test)\n",
    "X_train, X_test, y_train, y_test = train_test_split(X, y, test_size=0.2, random_state=42)"
   ],
   "id": "82dd7f69cd09cf54",
   "outputs": [],
   "execution_count": 8
  },
  {
   "metadata": {
    "ExecuteTime": {
     "end_time": "2024-10-14T14:51:47.321560Z",
     "start_time": "2024-10-14T14:51:47.319788Z"
    }
   },
   "cell_type": "code",
   "source": [
    "X_test_data = X_test\n",
    "y_test_data = y_test"
   ],
   "id": "dfec2004134947c6",
   "outputs": [],
   "execution_count": 9
  },
  {
   "metadata": {
    "ExecuteTime": {
     "end_time": "2024-10-14T14:51:47.338248Z",
     "start_time": "2024-10-14T14:51:47.333382Z"
    }
   },
   "cell_type": "code",
   "source": [
    "# Standardize the features\n",
    "scaler = StandardScaler()\n",
    "X_train = scaler.fit_transform(X_train)\n",
    "X_test = scaler.transform(X_test)\n",
    "\n",
    "# Convert to NumPy arrays and then to PyTorch tensors\n",
    "X_train_tensor = torch.tensor(X_train, dtype=torch.float32)\n",
    "y_train_tensor = torch.tensor(y_train.values, dtype=torch.float32).view(-1, 1)  # Reshape for output\n",
    "\n",
    "X_test_tensor = torch.tensor(X_test, dtype=torch.float32)\n",
    "y_test_tensor = torch.tensor(y_test.values, dtype=torch.float32).view(-1, 1)"
   ],
   "id": "c700084d41d7dd8a",
   "outputs": [],
   "execution_count": 10
  },
  {
   "metadata": {
    "ExecuteTime": {
     "end_time": "2024-10-14T14:51:47.357873Z",
     "start_time": "2024-10-14T14:51:47.355865Z"
    }
   },
   "cell_type": "code",
   "source": [
    "# Define a simple neural network\n",
    "class SimpleNN(nn.Module):\n",
    "    def __init__(self, input_size):\n",
    "        super(SimpleNN, self).__init__()\n",
    "        self.fc1 = nn.Linear(input_size, 1)  # Simplified to one layer\n",
    "    \n",
    "    def forward(self, x):\n",
    "        return self.fc1(x)"
   ],
   "id": "a5c1739c927b1626",
   "outputs": [],
   "execution_count": 11
  },
  {
   "metadata": {
    "ExecuteTime": {
     "end_time": "2024-10-14T14:51:49.354917Z",
     "start_time": "2024-10-14T14:51:47.372066Z"
    }
   },
   "cell_type": "code",
   "source": [
    "# Instantiate the model\n",
    "input_size = X_train.shape[1]  # Number of features\n",
    "model = SimpleNN(input_size)\n",
    "\n",
    "# Set up the loss function and optimizer\n",
    "criterion = nn.MSELoss()  # Mean Squared Error for regression\n",
    "optimizer = optim.Adam(model.parameters(), lr=0.001)"
   ],
   "id": "35b2ff60573f104",
   "outputs": [],
   "execution_count": 12
  },
  {
   "metadata": {
    "ExecuteTime": {
     "end_time": "2024-10-14T14:51:49.417797Z",
     "start_time": "2024-10-14T14:51:49.370229Z"
    }
   },
   "cell_type": "code",
   "source": [
    "# Training the model\n",
    "num_epochs = 100  # Number of training epochs\n",
    "for epoch in range(num_epochs):\n",
    "    model.train()  # Set the model to training mode\n",
    "    optimizer.zero_grad()  # Clear the gradients\n",
    "\n",
    "    # Forward pass\n",
    "    outputs = model(X_train_tensor)\n",
    "    loss = criterion(outputs, y_train_tensor)  # Compute the loss\n",
    "\n",
    "    # Backward pass\n",
    "    loss.backward()  # Compute the gradients\n",
    "    optimizer.step()  # Update the weights\n",
    "\n",
    "    # Print the loss every 10 epochs\n",
    "    if (epoch + 1) % 10 == 0:\n",
    "        print(f'Epoch [{epoch + 1}/{num_epochs}], Loss: {loss.item():.4f}')"
   ],
   "id": "a383a17a985731e5",
   "outputs": [
    {
     "name": "stdout",
     "output_type": "stream",
     "text": [
      "Epoch [10/100], Loss: 1.1006\n",
      "Epoch [20/100], Loss: 1.0498\n",
      "Epoch [30/100], Loss: 1.0020\n",
      "Epoch [40/100], Loss: 0.9571\n",
      "Epoch [50/100], Loss: 0.9149\n",
      "Epoch [60/100], Loss: 0.8748\n",
      "Epoch [70/100], Loss: 0.8368\n",
      "Epoch [80/100], Loss: 0.8007\n",
      "Epoch [90/100], Loss: 0.7663\n",
      "Epoch [100/100], Loss: 0.7335\n"
     ]
    }
   ],
   "execution_count": 13
  },
  {
   "metadata": {
    "ExecuteTime": {
     "end_time": "2024-10-14T14:51:49.494713Z",
     "start_time": "2024-10-14T14:51:49.492175Z"
    }
   },
   "cell_type": "code",
   "source": [
    "# Evaluate the model\n",
    "model.eval()  # Set the model to evaluation mode\n",
    "with torch.no_grad():\n",
    "    predictions = model(X_test_tensor)\n",
    "    test_loss = criterion(predictions, y_test_tensor)\n",
    "    \n",
    "    print(f'Test Loss: {test_loss.item():.4f}')"
   ],
   "id": "4b229d2721f17ec",
   "outputs": [
    {
     "name": "stdout",
     "output_type": "stream",
     "text": [
      "Test Loss: 0.7769\n"
     ]
    }
   ],
   "execution_count": 14
  },
  {
   "metadata": {
    "ExecuteTime": {
     "end_time": "2024-10-14T14:51:51.487275Z",
     "start_time": "2024-10-14T14:51:49.563475Z"
    }
   },
   "cell_type": "code",
   "source": "from patra_toolkit import ModelCard, AIModel, BiasAnalysis, ExplainabilityAnalysis, Metric",
   "id": "abd3bb9ac0c6501",
   "outputs": [
    {
     "name": "stderr",
     "output_type": "stream",
     "text": [
      "/Users/agamage/Desktop/patra-toolkit/lib/python3.11/site-packages/tqdm/auto.py:21: TqdmWarning: IProgress not found. Please update jupyter and ipywidgets. See https://ipywidgets.readthedocs.io/en/stable/user_install.html\n",
      "  from .autonotebook import tqdm as notebook_tqdm\n"
     ]
    }
   ],
   "execution_count": 15
  },
  {
   "metadata": {
    "ExecuteTime": {
     "end_time": "2024-10-14T14:51:51.508317Z",
     "start_time": "2024-10-14T14:51:51.505992Z"
    }
   },
   "cell_type": "code",
   "source": [
    "mc = ModelCard(\n",
    "            name=\"Titanic Disaster Analysis\",\n",
    "            version=\"0.1\",\n",
    "            short_description=\"Titanic Disaster Analysis using pytorch for demonstration of Patra Model Cards.\",\n",
    "            full_description=\"We have trained a ML model using the pytorch framework to predict profit for Titanic Disaster Analysis dataset. We leverage this data to run the Patra model cards to capture metadata about the model as well as fairness and explainability metrics.\",\n",
    "            keywords=\"titanic, pytorch, explainability, fairness, patra\",\n",
    "            author=\"Isuru Gamage\",\n",
    "            input_type=\"Tabular\",\n",
    "            category=\"classification\",\n",
    "            foundational_model=\"None\",\n",
    "        )\n",
    "\n",
    "mc.input_data = 'https://www.kaggle.com/datasets/monisamir/titanic-disaster-analysis'\n",
    "mc.output_data = 'https://github.iu.edu/d2i/dockerhub/tensorflow/titanic_modelv01'"
   ],
   "id": "ecc1fb2613056b35",
   "outputs": [],
   "execution_count": 16
  },
  {
   "metadata": {
    "ExecuteTime": {
     "end_time": "2024-10-14T14:51:51.528735Z",
     "start_time": "2024-10-14T14:51:51.526704Z"
    }
   },
   "cell_type": "code",
   "source": [
    "ai_model = AIModel(\n",
    "            name=\"Survived prediction pytorch model\",\n",
    "            version=\"0.1\",\n",
    "            description=\"Census classification problem using pytorch Neural Network using the Titanic Disaster Analysis Dataset\",\n",
    "            owner=\"Isuru Gamage\",\n",
    "            location=\"https://github.iu.edu/d2i/sales/tensorflow_model\",\n",
    "            license=\"BSD-3 Clause\",\n",
    "            framework=\"pytorch\",\n",
    "            model_type=\"dnn\",\n",
    "            test_accuracy= 0.2\n",
    "        )\n",
    "ai_model.populate_model_structure(model)"
   ],
   "id": "cb2ff1a1946a877c",
   "outputs": [],
   "execution_count": 17
  },
  {
   "metadata": {
    "ExecuteTime": {
     "end_time": "2024-10-14T14:51:51.550138Z",
     "start_time": "2024-10-14T14:51:51.548399Z"
    }
   },
   "cell_type": "code",
   "source": [
    "ai_model.add_metric(\"Test loss\", test_loss.item())\n",
    "ai_model.add_metric(\"Epochs\", 100)\n",
    "ai_model.add_metric(\"Batch Size\", 32)\n",
    "ai_model.add_metric(\"Optimizer\", \"Adam\")\n",
    "ai_model.add_metric(\"Learning Rate\", 0.0001)\n",
    "ai_model.add_metric(\"Input Shape\", 0.2)"
   ],
   "id": "d38f90e76d592a1",
   "outputs": [],
   "execution_count": 18
  },
  {
   "metadata": {
    "ExecuteTime": {
     "end_time": "2024-10-14T14:51:51.570716Z",
     "start_time": "2024-10-14T14:51:51.569081Z"
    }
   },
   "cell_type": "code",
   "source": "mc.ai_model = ai_model",
   "id": "53d0348892810a0",
   "outputs": [],
   "execution_count": 19
  },
  {
   "metadata": {
    "ExecuteTime": {
     "end_time": "2024-10-14T14:51:51.591139Z",
     "start_time": "2024-10-14T14:51:51.589355Z"
    }
   },
   "cell_type": "code",
   "source": "mc.populate_requirements()",
   "id": "a47774d8de14a7dc",
   "outputs": [],
   "execution_count": 20
  },
  {
   "metadata": {
    "ExecuteTime": {
     "end_time": "2024-10-14T14:51:51.612819Z",
     "start_time": "2024-10-14T14:51:51.610935Z"
    }
   },
   "cell_type": "code",
   "source": "print(mc)",
   "id": "2f1b547d5ea78374",
   "outputs": [
    {
     "name": "stdout",
     "output_type": "stream",
     "text": [
      "{\n",
      "    \"name\": \"Titanic Disaster Analysis\",\n",
      "    \"version\": \"0.1\",\n",
      "    \"short_description\": \"Titanic Disaster Analysis using pytorch for demonstration of Patra Model Cards.\",\n",
      "    \"full_description\": \"We have trained a ML model using the pytorch framework to predict profit for Titanic Disaster Analysis dataset. We leverage this data to run the Patra model cards to capture metadata about the model as well as fairness and explainability metrics.\",\n",
      "    \"keywords\": \"titanic, pytorch, explainability, fairness, patra\",\n",
      "    \"author\": \"Isuru Gamage\",\n",
      "    \"input_type\": \"Tabular\",\n",
      "    \"category\": \"classification\",\n",
      "    \"input_data\": \"https://www.kaggle.com/datasets/monisamir/titanic-disaster-analysis\",\n",
      "    \"output_data\": \"https://github.iu.edu/d2i/dockerhub/tensorflow/titanic_modelv01\",\n",
      "    \"foundational_model\": \"None\",\n",
      "    \"ai_model\": {\n",
      "        \"name\": \"Survived prediction pytorch model\",\n",
      "        \"version\": \"0.1\",\n",
      "        \"description\": \"Census classification problem using pytorch Neural Network using the Titanic Disaster Analysis Dataset\",\n",
      "        \"owner\": \"Isuru Gamage\",\n",
      "        \"location\": \"https://github.iu.edu/d2i/sales/tensorflow_model\",\n",
      "        \"license\": \"BSD-3 Clause\",\n",
      "        \"framework\": \"pytorch\",\n",
      "        \"model_type\": \"dnn\",\n",
      "        \"test_accuracy\": \"0.2\",\n",
      "        \"model_structure\": {},\n",
      "        \"metrics\": {\n",
      "            \"Test loss\": 0.7769268155097961,\n",
      "            \"Epochs\": 100,\n",
      "            \"Batch Size\": 32,\n",
      "            \"Optimizer\": \"Adam\",\n",
      "            \"Learning Rate\": 0.0001,\n",
      "            \"Input Shape\": 0.2\n",
      "        }\n",
      "    },\n",
      "    \"bias_analysis\": null,\n",
      "    \"xai_analysis\": null,\n",
      "    \"model_requirements\": [\n",
      "        \"anyio==4.6.0\",\n",
      "        \"appnope==0.1.4\",\n",
      "        \"argon2-cffi-bindings==21.2.0\",\n",
      "        \"argon2-cffi==23.1.0\",\n",
      "        \"arrow==1.3.0\",\n",
      "        \"asttokens==2.4.1\",\n",
      "        \"async-lru==2.0.4\",\n",
      "        \"attrs==23.1.0\",\n",
      "        \"babel==2.16.0\",\n",
      "        \"beautifulsoup4==4.12.3\",\n",
      "        \"bleach==6.1.0\",\n",
      "        \"certifi==2024.8.30\",\n",
      "        \"cffi==1.17.1\",\n",
      "        \"charset-normalizer==3.4.0\",\n",
      "        \"cloudpickle==3.0.0\",\n",
      "        \"comm==0.2.2\",\n",
      "        \"debugpy==1.8.7\",\n",
      "        \"decorator==5.1.1\",\n",
      "        \"defusedxml==0.7.1\",\n",
      "        \"executing==2.1.0\",\n",
      "        \"fastjsonschema==2.20.0\",\n",
      "        \"filelock==3.16.1\",\n",
      "        \"fqdn==1.5.1\",\n",
      "        \"fsspec==2024.9.0\",\n",
      "        \"h11==0.14.0\",\n",
      "        \"httpcore==1.0.6\",\n",
      "        \"httpx==0.27.2\",\n",
      "        \"idna==3.10\",\n",
      "        \"ipykernel==6.29.5\",\n",
      "        \"ipython==8.28.0\",\n",
      "        \"isoduration==20.11.0\",\n",
      "        \"jedi==0.19.1\",\n",
      "        \"jinja2==3.1.4\",\n",
      "        \"joblib==1.4.2\",\n",
      "        \"json5==0.9.25\",\n",
      "        \"jsonpointer==3.0.0\",\n",
      "        \"jsonschema-specifications==2024.10.1\",\n",
      "        \"jsonschema==4.18.6\",\n",
      "        \"jupyter-client==8.6.3\",\n",
      "        \"jupyter-core==5.7.2\",\n",
      "        \"jupyter-events==0.10.0\",\n",
      "        \"jupyter-lsp==2.2.5\",\n",
      "        \"jupyter-server-terminals==0.5.3\",\n",
      "        \"jupyter-server==2.14.2\",\n",
      "        \"jupyterlab-pygments==0.3.0\",\n",
      "        \"jupyterlab-server==2.27.3\",\n",
      "        \"jupyterlab==4.2.5\",\n",
      "        \"llvmlite==0.43.0\",\n",
      "        \"markupsafe==3.0.1\",\n",
      "        \"matplotlib-inline==0.1.7\",\n",
      "        \"mistune==3.0.2\",\n",
      "        \"mpmath==1.3.0\",\n",
      "        \"nbclient==0.10.0\",\n",
      "        \"nbconvert==7.16.4\",\n",
      "        \"nbformat==5.10.4\",\n",
      "        \"nest-asyncio==1.6.0\",\n",
      "        \"networkx==3.3\",\n",
      "        \"notebook-shim==0.2.4\",\n",
      "        \"notebook==7.2.2\",\n",
      "        \"numba==0.60.0\",\n",
      "        \"numpy==1.26.4\",\n",
      "        \"overrides==7.7.0\",\n",
      "        \"packaging==24.1\",\n",
      "        \"pandas==2.2.3\",\n",
      "        \"pandocfilters==1.5.1\",\n",
      "        \"parso==0.8.4\",\n",
      "        \"pexpect==4.9.0\",\n",
      "        \"pip==23.2.1\",\n",
      "        \"platformdirs==4.3.6\",\n",
      "        \"prometheus-client==0.21.0\",\n",
      "        \"prompt-toolkit==3.0.48\",\n",
      "        \"psutil==6.0.0\",\n",
      "        \"ptyprocess==0.7.0\",\n",
      "        \"pure-eval==0.2.3\",\n",
      "        \"pycparser==2.22\",\n",
      "        \"pygments==2.18.0\",\n",
      "        \"pyrsistent==0.19.3\",\n",
      "        \"python-dateutil==2.9.0.post0\",\n",
      "        \"python-json-logger==2.0.7\",\n",
      "        \"pytz==2024.2\",\n",
      "        \"pyyaml==6.0.2\",\n",
      "        \"pyzmq==26.2.0\",\n",
      "        \"referencing==0.35.1\",\n",
      "        \"requests==2.32.3\",\n",
      "        \"rfc3339-validator==0.1.4\",\n",
      "        \"rfc3986-validator==0.1.1\",\n",
      "        \"rpds-py==0.20.0\",\n",
      "        \"scikit-learn==1.5.2\",\n",
      "        \"scipy==1.14.1\",\n",
      "        \"send2trash==1.8.3\",\n",
      "        \"setuptools==68.2.0\",\n",
      "        \"six==1.16.0\",\n",
      "        \"slicer==0.0.8\",\n",
      "        \"sniffio==1.3.1\",\n",
      "        \"soupsieve==2.6\",\n",
      "        \"stack-data==0.6.3\",\n",
      "        \"sympy==1.13.3\",\n",
      "        \"terminado==0.18.1\",\n",
      "        \"threadpoolctl==3.5.0\",\n",
      "        \"tinycss2==1.3.0\",\n",
      "        \"torch==2.4.1\",\n",
      "        \"tornado==6.4.1\",\n",
      "        \"tqdm==4.66.5\",\n",
      "        \"traitlets==5.14.3\",\n",
      "        \"types-python-dateutil==2.9.0.20241003\",\n",
      "        \"typing-extensions==4.12.2\",\n",
      "        \"tzdata==2024.2\",\n",
      "        \"uri-template==1.3.0\",\n",
      "        \"urllib3==2.2.3\",\n",
      "        \"wcwidth==0.2.13\",\n",
      "        \"webcolors==24.8.0\",\n",
      "        \"webencodings==0.5.1\",\n",
      "        \"websocket-client==1.8.0\",\n",
      "        \"wheel==0.41.2\"\n",
      "    ]\n",
      "}\n"
     ]
    }
   ],
   "execution_count": 21
  },
  {
   "metadata": {
    "ExecuteTime": {
     "end_time": "2024-10-14T14:51:51.635280Z",
     "start_time": "2024-10-14T14:51:51.633099Z"
    }
   },
   "cell_type": "code",
   "source": "print(data_cleaned.columns.tolist())",
   "id": "22fd5799951caef",
   "outputs": [
    {
     "name": "stdout",
     "output_type": "stream",
     "text": [
      "['Survived', 'Pclass', 'Sex', 'Age', 'SibSp', 'Parch', 'Fare', 'Embarked']\n"
     ]
    }
   ],
   "execution_count": 22
  },
  {
   "metadata": {
    "ExecuteTime": {
     "end_time": "2024-10-14T14:51:51.670011Z",
     "start_time": "2024-10-14T14:51:51.655379Z"
    }
   },
   "cell_type": "code",
   "source": [
    "y_pred_tensor = model(X_test_tensor)  # Directly call the model\n",
    "y_pred = (y_pred_tensor >= 0.5).flatten()\n",
    "\n",
    "mc.populate_bias(X_test, y_test_data, y_pred, \"Sex\", X_test_data['Sex'], model) \n"
   ],
   "id": "3c898fe537086500",
   "outputs": [],
   "execution_count": 23
  },
  {
   "metadata": {
    "ExecuteTime": {
     "end_time": "2024-10-14T14:51:51.700563Z",
     "start_time": "2024-10-14T14:51:51.689180Z"
    }
   },
   "cell_type": "code",
   "source": [
    "\n",
    "x_columns = data_cleaned.columns.tolist()\n",
    "x_columns.remove('Survived')\n",
    "\n",
    "X_test_tensor = torch.tensor(X_test[:10], dtype=torch.float32)\n",
    "\n",
    "mc.populate_xai(X_test_tensor, x_columns, model, 7)"
   ],
   "id": "977726958e7a7c0d",
   "outputs": [],
   "execution_count": 24
  },
  {
   "metadata": {
    "ExecuteTime": {
     "end_time": "2024-10-14T14:51:51.722329Z",
     "start_time": "2024-10-14T14:51:51.720384Z"
    }
   },
   "cell_type": "code",
   "source": "print(mc)",
   "id": "a4fb4c8ec2f718fc",
   "outputs": [
    {
     "name": "stdout",
     "output_type": "stream",
     "text": [
      "{\n",
      "    \"name\": \"Titanic Disaster Analysis\",\n",
      "    \"version\": \"0.1\",\n",
      "    \"short_description\": \"Titanic Disaster Analysis using pytorch for demonstration of Patra Model Cards.\",\n",
      "    \"full_description\": \"We have trained a ML model using the pytorch framework to predict profit for Titanic Disaster Analysis dataset. We leverage this data to run the Patra model cards to capture metadata about the model as well as fairness and explainability metrics.\",\n",
      "    \"keywords\": \"titanic, pytorch, explainability, fairness, patra\",\n",
      "    \"author\": \"Isuru Gamage\",\n",
      "    \"input_type\": \"Tabular\",\n",
      "    \"category\": \"classification\",\n",
      "    \"input_data\": \"https://www.kaggle.com/datasets/monisamir/titanic-disaster-analysis\",\n",
      "    \"output_data\": \"https://github.iu.edu/d2i/dockerhub/tensorflow/titanic_modelv01\",\n",
      "    \"foundational_model\": \"None\",\n",
      "    \"ai_model\": {\n",
      "        \"name\": \"Survived prediction pytorch model\",\n",
      "        \"version\": \"0.1\",\n",
      "        \"description\": \"Census classification problem using pytorch Neural Network using the Titanic Disaster Analysis Dataset\",\n",
      "        \"owner\": \"Isuru Gamage\",\n",
      "        \"location\": \"https://github.iu.edu/d2i/sales/tensorflow_model\",\n",
      "        \"license\": \"BSD-3 Clause\",\n",
      "        \"framework\": \"pytorch\",\n",
      "        \"model_type\": \"dnn\",\n",
      "        \"test_accuracy\": \"0.2\",\n",
      "        \"model_structure\": {},\n",
      "        \"metrics\": {\n",
      "            \"Test loss\": 0.7769268155097961,\n",
      "            \"Epochs\": 100,\n",
      "            \"Batch Size\": 32,\n",
      "            \"Optimizer\": \"Adam\",\n",
      "            \"Learning Rate\": 0.0001,\n",
      "            \"Input Shape\": 0.2\n",
      "        }\n",
      "    },\n",
      "    \"bias_analysis\": {\n",
      "        \"demographic_parity_diff\": 0.05428194993412385,\n",
      "        \"equal_odds_difference\": 0.21256684491978609\n",
      "    },\n",
      "    \"xai_analysis\": {\n",
      "        \"Pclass\": 0.2215753898024559,\n",
      "        \"Parch\": 0.11718346178531647,\n",
      "        \"Embarked\": 0.07820529788732529,\n",
      "        \"Fare\": 0.06847491692751646,\n",
      "        \"Age\": 0.06399346548132598,\n",
      "        \"SibSp\": 0.030578107200562955,\n",
      "        \"Sex\": 0.005556939169764519\n",
      "    },\n",
      "    \"model_requirements\": [\n",
      "        \"anyio==4.6.0\",\n",
      "        \"appnope==0.1.4\",\n",
      "        \"argon2-cffi-bindings==21.2.0\",\n",
      "        \"argon2-cffi==23.1.0\",\n",
      "        \"arrow==1.3.0\",\n",
      "        \"asttokens==2.4.1\",\n",
      "        \"async-lru==2.0.4\",\n",
      "        \"attrs==23.1.0\",\n",
      "        \"babel==2.16.0\",\n",
      "        \"beautifulsoup4==4.12.3\",\n",
      "        \"bleach==6.1.0\",\n",
      "        \"certifi==2024.8.30\",\n",
      "        \"cffi==1.17.1\",\n",
      "        \"charset-normalizer==3.4.0\",\n",
      "        \"cloudpickle==3.0.0\",\n",
      "        \"comm==0.2.2\",\n",
      "        \"debugpy==1.8.7\",\n",
      "        \"decorator==5.1.1\",\n",
      "        \"defusedxml==0.7.1\",\n",
      "        \"executing==2.1.0\",\n",
      "        \"fastjsonschema==2.20.0\",\n",
      "        \"filelock==3.16.1\",\n",
      "        \"fqdn==1.5.1\",\n",
      "        \"fsspec==2024.9.0\",\n",
      "        \"h11==0.14.0\",\n",
      "        \"httpcore==1.0.6\",\n",
      "        \"httpx==0.27.2\",\n",
      "        \"idna==3.10\",\n",
      "        \"ipykernel==6.29.5\",\n",
      "        \"ipython==8.28.0\",\n",
      "        \"isoduration==20.11.0\",\n",
      "        \"jedi==0.19.1\",\n",
      "        \"jinja2==3.1.4\",\n",
      "        \"joblib==1.4.2\",\n",
      "        \"json5==0.9.25\",\n",
      "        \"jsonpointer==3.0.0\",\n",
      "        \"jsonschema-specifications==2024.10.1\",\n",
      "        \"jsonschema==4.18.6\",\n",
      "        \"jupyter-client==8.6.3\",\n",
      "        \"jupyter-core==5.7.2\",\n",
      "        \"jupyter-events==0.10.0\",\n",
      "        \"jupyter-lsp==2.2.5\",\n",
      "        \"jupyter-server-terminals==0.5.3\",\n",
      "        \"jupyter-server==2.14.2\",\n",
      "        \"jupyterlab-pygments==0.3.0\",\n",
      "        \"jupyterlab-server==2.27.3\",\n",
      "        \"jupyterlab==4.2.5\",\n",
      "        \"llvmlite==0.43.0\",\n",
      "        \"markupsafe==3.0.1\",\n",
      "        \"matplotlib-inline==0.1.7\",\n",
      "        \"mistune==3.0.2\",\n",
      "        \"mpmath==1.3.0\",\n",
      "        \"nbclient==0.10.0\",\n",
      "        \"nbconvert==7.16.4\",\n",
      "        \"nbformat==5.10.4\",\n",
      "        \"nest-asyncio==1.6.0\",\n",
      "        \"networkx==3.3\",\n",
      "        \"notebook-shim==0.2.4\",\n",
      "        \"notebook==7.2.2\",\n",
      "        \"numba==0.60.0\",\n",
      "        \"numpy==1.26.4\",\n",
      "        \"overrides==7.7.0\",\n",
      "        \"packaging==24.1\",\n",
      "        \"pandas==2.2.3\",\n",
      "        \"pandocfilters==1.5.1\",\n",
      "        \"parso==0.8.4\",\n",
      "        \"pexpect==4.9.0\",\n",
      "        \"pip==23.2.1\",\n",
      "        \"platformdirs==4.3.6\",\n",
      "        \"prometheus-client==0.21.0\",\n",
      "        \"prompt-toolkit==3.0.48\",\n",
      "        \"psutil==6.0.0\",\n",
      "        \"ptyprocess==0.7.0\",\n",
      "        \"pure-eval==0.2.3\",\n",
      "        \"pycparser==2.22\",\n",
      "        \"pygments==2.18.0\",\n",
      "        \"pyrsistent==0.19.3\",\n",
      "        \"python-dateutil==2.9.0.post0\",\n",
      "        \"python-json-logger==2.0.7\",\n",
      "        \"pytz==2024.2\",\n",
      "        \"pyyaml==6.0.2\",\n",
      "        \"pyzmq==26.2.0\",\n",
      "        \"referencing==0.35.1\",\n",
      "        \"requests==2.32.3\",\n",
      "        \"rfc3339-validator==0.1.4\",\n",
      "        \"rfc3986-validator==0.1.1\",\n",
      "        \"rpds-py==0.20.0\",\n",
      "        \"scikit-learn==1.5.2\",\n",
      "        \"scipy==1.14.1\",\n",
      "        \"send2trash==1.8.3\",\n",
      "        \"setuptools==68.2.0\",\n",
      "        \"six==1.16.0\",\n",
      "        \"slicer==0.0.8\",\n",
      "        \"sniffio==1.3.1\",\n",
      "        \"soupsieve==2.6\",\n",
      "        \"stack-data==0.6.3\",\n",
      "        \"sympy==1.13.3\",\n",
      "        \"terminado==0.18.1\",\n",
      "        \"threadpoolctl==3.5.0\",\n",
      "        \"tinycss2==1.3.0\",\n",
      "        \"torch==2.4.1\",\n",
      "        \"tornado==6.4.1\",\n",
      "        \"tqdm==4.66.5\",\n",
      "        \"traitlets==5.14.3\",\n",
      "        \"types-python-dateutil==2.9.0.20241003\",\n",
      "        \"typing-extensions==4.12.2\",\n",
      "        \"tzdata==2024.2\",\n",
      "        \"uri-template==1.3.0\",\n",
      "        \"urllib3==2.2.3\",\n",
      "        \"wcwidth==0.2.13\",\n",
      "        \"webcolors==24.8.0\",\n",
      "        \"webencodings==0.5.1\",\n",
      "        \"websocket-client==1.8.0\",\n",
      "        \"wheel==0.41.2\"\n",
      "    ]\n",
      "}\n"
     ]
    }
   ],
   "execution_count": 25
  },
  {
   "metadata": {},
   "cell_type": "code",
   "outputs": [],
   "execution_count": null,
   "source": "mc.submit(\"http://127.0.0.1:5002\")",
   "id": "f380d0e503a3da8f"
  },
  {
   "metadata": {},
   "cell_type": "code",
   "outputs": [],
   "execution_count": null,
   "source": "mc.save(\"/Users/swithana/git/d2i/patra-toolkit/examples/model_cards/pytorch_titanic_data.json\")",
   "id": "60d9f9dcc63164cf"
  }
 ],
 "metadata": {
  "kernelspec": {
   "display_name": "Python 3",
   "language": "python",
   "name": "python3"
  },
  "language_info": {
   "codemirror_mode": {
    "name": "ipython",
    "version": 2
   },
   "file_extension": ".py",
   "mimetype": "text/x-python",
   "name": "python",
   "nbconvert_exporter": "python",
   "pygments_lexer": "ipython2",
   "version": "2.7.6"
  }
 },
 "nbformat": 4,
 "nbformat_minor": 5
}
