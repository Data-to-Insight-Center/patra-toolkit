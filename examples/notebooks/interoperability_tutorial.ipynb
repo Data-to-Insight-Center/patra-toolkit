{
 "cells": [
  {
   "cell_type": "code",
   "id": "initial_id",
   "metadata": {
    "collapsed": true,
    "ExecuteTime": {
     "end_time": "2025-03-07T17:30:59.725441Z",
     "start_time": "2025-03-07T17:30:41.794567Z"
    }
   },
   "source": [
    "import sys\n",
    "import os\n",
    "\n",
    "# Add the repository root to sys.path so that the latest local version of patra_toolkit is imported.\n",
    "repo_root = os.path.abspath(os.path.join(os.getcwd(), \"..\"))\n",
    "if repo_root not in sys.path:\n",
    "    sys.path.insert(0, repo_root)\n",
    "\n",
    "import torchvision\n",
    "\n",
    "from patra_toolkit import ModelCard, AIModel\n",
    "\n",
    "mc = ModelCard(\n",
    "    name=\"UCI Adult Data Analysis model using Tensorflow\",\n",
    "    version=\"0.1\",\n",
    "    short_description=\"UCI Adult Data analysis using Tensorflow for demonstration of Patra Model Cards.\",\n",
    "    full_description=\"\",\n",
    "    keywords=\"uci adult, tensorflow, explainability, fairness, patra\",\n",
    "    author=\"neelk\",\n",
    "    input_type=\"Tabular\",\n",
    "    category=\"classification\",\n",
    "    foundational_model=\"None\"\n",
    ")\n",
    "\n",
    "mc.input_data = 'https://archive.ics.uci.edu/dataset/2/adult'\n",
    "\n",
    "ai_model = AIModel(\n",
    "  name=\"UCI Adult Random Forest model\",\n",
    "  version=\"0.1\",\n",
    "  description=\"Census classification problem using Random Forest\",\n",
    "  owner=\"Sachith Withana\",\n",
    "  location=\"https://github.iu.edu/swithana/mcwork/randomforest/adult_model.pkl\",\n",
    "  license=\"BSD-3 Clause\",\n",
    "  framework=\"sklearn\",\n",
    "  model_type=\"random_forest\",\n",
    "  test_accuracy=0.9\n",
    ")\n",
    "\n",
    "trained_model = torchvision.models.resnet50(pretrained=True)\n",
    "ai_model.populate_model_structure(trained_model)\n",
    "mc.ai_model = ai_model\n",
    "tensorflow_model =\"\"\n",
    "\n",
    "\n",
    "mc.submit_model(\n",
    "    patra_server_url=\"http://127.0.0.1:5002\",\n",
    "    model=tensorflow_model,\n",
    "    file_format=\"h5\",\n",
    "    model_store=\"github\"\n",
    ")\n",
    "\n",
    "mc.submit_artifact(\n",
    "    patra_server_url=\"http://127.0.0.1:5002\",\n",
    "    artifact_path=\"data/image.png\",\n",
    "    model_store=\"github\"\n",
    ")"
   ],
   "outputs": [
    {
     "name": "stderr",
     "output_type": "stream",
     "text": [
      "/Users/neeleshkarthikeyan/d2i/patra-toolkit/venv/lib/python3.11/site-packages/tqdm/auto.py:21: TqdmWarning: IProgress not found. Please update jupyter and ipywidgets. See https://ipywidgets.readthedocs.io/en/stable/user_install.html\n",
      "  from .autonotebook import tqdm as notebook_tqdm\n",
      "/Users/neeleshkarthikeyan/d2i/patra-toolkit/venv/lib/python3.11/site-packages/torchvision/models/_utils.py:208: UserWarning: The parameter 'pretrained' is deprecated since 0.13 and may be removed in the future, please use 'weights' instead.\n",
      "  warnings.warn(\n",
      "/Users/neeleshkarthikeyan/d2i/patra-toolkit/venv/lib/python3.11/site-packages/torchvision/models/_utils.py:223: UserWarning: Arguments other than a weight enum or `None` for 'weights' are deprecated since 0.13 and may be removed in the future. The current behavior is equivalent to passing `weights=ResNet50_Weights.IMAGENET1K_V1`. You can also use `weights=ResNet50_Weights.DEFAULT` to get the most up-to-date weights.\n",
      "  warnings.warn(msg)\n",
      "INFO:root:PID generated: neelk_megadetector_1.0\n"
     ]
    },
    {
     "name": "stdout",
     "output_type": "stream",
     "text": [
      "Repository 'neelk_megadetector_1.0' already exists. Using existing repository.\n",
      "Initialized empty Git repository in /private/var/folders/d7/zwq9fkgs65xdfbrv7v00g8dc0000gn/T/neelk_megadetector_1.011i9egjp/.git/\n"
     ]
    },
    {
     "name": "stderr",
     "output_type": "stream",
     "text": [
      "From https://github.com/nee1k/neelk_megadetector_1.0\n",
      " * branch            main       -> FETCH_HEAD\n",
      " * [new branch]      main       -> origin/main\n"
     ]
    },
    {
     "name": "stdout",
     "output_type": "stream",
     "text": [
      "No changes to commit, skipping commit step.\n"
     ]
    },
    {
     "name": "stderr",
     "output_type": "stream",
     "text": [
      "Everything up-to-date\n",
      "INFO:root:Model stored at: https://github.com/nee1k/neelk_megadetector_1.0/blob/main/neelk_megadetector_1.0.pt\n",
      "INFO:root:Model card validated successfully.\n",
      "INFO:root:Model card submitted successfully.\n",
      "INFO:root:PID generated: neelk_megadetector_1.0\n"
     ]
    },
    {
     "name": "stdout",
     "output_type": "stream",
     "text": [
      "Repository 'neelk_megadetector_1.0' already exists. Using existing repository.\n",
      "Initialized empty Git repository in /private/var/folders/d7/zwq9fkgs65xdfbrv7v00g8dc0000gn/T/neelk_megadetector_1.0eypn_s0a/.git/\n"
     ]
    },
    {
     "name": "stderr",
     "output_type": "stream",
     "text": [
      "From https://github.com/nee1k/neelk_megadetector_1.0\n",
      " * branch            main       -> FETCH_HEAD\n",
      " * [new branch]      main       -> origin/main\n"
     ]
    },
    {
     "name": "stdout",
     "output_type": "stream",
     "text": [
      "No changes to commit, skipping commit step.\n"
     ]
    },
    {
     "name": "stderr",
     "output_type": "stream",
     "text": [
      "Everything up-to-date\n",
      "INFO:root:Artifact stored at: https://github.com/nee1k/neelk_megadetector_1.0/blob/main/labels.txt\n",
      "INFO:root:Model card validated successfully.\n",
      "INFO:root:Model card submitted successfully.\n"
     ]
    },
    {
     "data": {
      "text/plain": [
       "{'message': 'Model card already exists',\n",
       " 'model_card_id': 'neelk_megadetector_1.0'}"
      ]
     },
     "execution_count": 1,
     "metadata": {},
     "output_type": "execute_result"
    }
   ],
   "execution_count": 1
  },
  {
   "metadata": {},
   "cell_type": "code",
   "outputs": [],
   "execution_count": null,
   "source": "",
   "id": "f7ce0668403c84ab"
  }
 ],
 "metadata": {
  "kernelspec": {
   "display_name": "Python 3",
   "language": "python",
   "name": "python3"
  },
  "language_info": {
   "codemirror_mode": {
    "name": "ipython",
    "version": 2
   },
   "file_extension": ".py",
   "mimetype": "text/x-python",
   "name": "python",
   "nbconvert_exporter": "python",
   "pygments_lexer": "ipython2",
   "version": "2.7.6"
  }
 },
 "nbformat": 4,
 "nbformat_minor": 5
}
